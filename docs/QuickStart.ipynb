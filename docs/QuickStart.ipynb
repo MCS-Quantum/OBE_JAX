{
 "cells": [
  {
   "cell_type": "markdown",
   "metadata": {},
   "source": [
    "# Quick Start\n",
    "\n",
    "## Installation\n",
    "\n",
    "* Easiest: pip install from the python package index.  (Pending approval as of 7/5/2019.)\n",
    "`pip install optbayesexpt`\n",
    "\n",
    "## Setting up"
   ]
  },
  {
   "cell_type": "code",
   "execution_count": null,
   "metadata": {},
   "outputs": [],
   "source": [
    "import numpy as np\n",
    "from optbayesexpt import OptBayesExpt\n",
    "\n",
    "myOBE = OptBayes()          # initiate a class"
   ]
  },
  {
   "cell_type": "markdown",
   "metadata": {},
   "source": [
    "### Specify the experimental settings\n",
    "\n",
    "For example, we specify a setting called `knob` to vary between 1 and 10.  Continuous variables must be discretized, and here we set 100 values.  "
   ]
  },
  {
   "cell_type": "code",
   "execution_count": null,
   "metadata": {},
   "outputs": [],
   "source": [
    "knob = np.linspace(1, 10, 100)\n",
    "myOBE.sets = (knob, ) "
   ]
  },
  {
   "cell_type": "markdown",
   "metadata": {},
   "source": [
    "`OptBayesExpt.sets` must be a tuple of numerical lists as `(list_1, [list_2], ...)`.  \n",
    "\n",
    "### Specify parameter space\n",
    "\n",
    "Suppose there's a `foo_phase` and a `bar_coeff` that the measurements are to determine.  Specify ranges and discretization. Importantly, specifying a parameter range asserts that there is zero probability that the true value will be outside the range. "
   ]
  },
  {
   "cell_type": "code",
   "execution_count": null,
   "metadata": {},
   "outputs": [],
   "source": [
    "foo_phase = np.arange(-np.pi/2, np.pi/2, 180)\n",
    "bar_coeff = np.arange(1, 10, 50)\n",
    "myOBE.pars = (foo_phase, bar_coeff)"
   ]
  },
  {
   "cell_type": "markdown",
   "metadata": {},
   "source": [
    "`OptBayesExpt.pars` must be a tuple of numerical lists as `(list_a, [list_b], ...)`.   \n",
    "\n",
    "### Specify constants\n",
    "\n",
    "An optional definition for parameters that are held constant for the duration of an experiment, but that might change between runs."
   ]
  },
  {
   "cell_type": "code",
   "execution_count": null,
   "metadata": {},
   "outputs": [],
   "source": [
    "temperature = 19   # degrees C\n",
    "myOBE.cons = (temperature, )"
   ]
  },
  {
   "cell_type": "markdown",
   "metadata": {},
   "source": [
    "OptBayesExpt.cons must be a tuple of numerical values.\n",
    "\n",
    "### Configure"
   ]
  },
  {
   "cell_type": "code",
   "execution_count": null,
   "metadata": {},
   "outputs": [],
   "source": [
    "myOBE.config()"
   ]
  },
  {
   "cell_type": "markdown",
   "metadata": {},
   "source": [
    "The `config` function creates numpy arrays from the `sets` and `pars` tuples,  For $n$ settings in `sets`, there will be $n$ of $n$-dimensional arrays to describe all possible settings.  For $m$ parameters, the probability distribution will be an $m$-dimensional array. Array sizes in each dimension correspond to lengths of arrays in `sets` and `pars`.   \n",
    "\n",
    "### Specify the model\n",
    "\n",
    "BayesOptExpt requires a `model_function()` to be supplied by the user.  BayesOptExpt will call this function with three tuple arguments. OptBayesExpt will iterate over all possible combinations of setting values, and separately, over all possible parameters. "
   ]
  },
  {
   "cell_type": "code",
   "execution_count": null,
   "metadata": {},
   "outputs": [],
   "source": [
    "def my_model_function(settings, parameters, constants):\n",
    "    \"\"\"\n",
    "    User-supplied code\n",
    "    :param settings:   either a tuple of setting values \n",
    "                         -or- a tuple of 1D numpy arrays of settings\n",
    "    :param parameters: either a tuple of numpy arrays of parameters \n",
    "                         -or- a tuple of parameter values\n",
    "    :param contants:   a tuple of constants\n",
    "    :return:           a measurement prediction\n",
    "    \"\"\"\n",
    "    # user-defined code\n",
    "    # ...\n",
    "\n",
    "# Incorporate the model into myOBE\n",
    "myOBE.model_function = my_model_function"
   ]
  },
  {
   "cell_type": "markdown",
   "metadata": {},
   "source": [
    "Using `numpy` arrays, iterations over array elements are handled automatically using broadcasting. See the Numpy User Guide for information on [broadcasting](https://docs.scipy.org/doc/numpy/user/basics.broadcasting.html).\n",
    "\n",
    "## Running\n",
    "\n",
    "BayesOptExpt participates at two stages in the measurement loop as shown in the following pseudocode."
   ]
  },
  {
   "cell_type": "code",
   "execution_count": null,
   "metadata": {},
   "outputs": [],
   "source": [
    "while still_measuring:\n",
    "    \n",
    "    # myOBE picks settings - there's a choice of methods\n",
    "    # settings = myOBE.opt_setting()\n",
    "    settings = myOBE.good_setting(pickiness=a_value_between_1_and_10)\n",
    "    \n",
    "    # The experiment makes a measurement and returns results\n",
    "    new_result = measurement_results_determined_using(settings)\n",
    "    \n",
    "    # myOBE uses the new results to update the parameter \n",
    "    # probability distribution function (pdf)\n",
    "    myOBE.pdf_update(settings, new_result, uncertainties)\n",
    "\n",
    "# end while loop\n",
    "\n",
    "# get the results\n",
    "parameter_distribution = myOBE.get_pdf()"
   ]
  }
 ],
 "metadata": {
  "kernelspec": {
   "display_name": "Python 3",
   "language": "python",
   "name": "python3"
  },
  "language_info": {
   "codemirror_mode": {
    "name": "ipython",
    "version": 3
   },
   "file_extension": ".py",
   "mimetype": "text/x-python",
   "name": "python",
   "nbconvert_exporter": "python",
   "pygments_lexer": "ipython3",
   "version": "3.6.4"
  },
  "varInspector": {
   "cols": {
    "lenName": 16,
    "lenType": 16,
    "lenVar": 40
   },
   "kernels_config": {
    "python": {
     "delete_cmd_postfix": "",
     "delete_cmd_prefix": "del ",
     "library": "var_list.py",
     "varRefreshCmd": "print(var_dic_list())"
    },
    "r": {
     "delete_cmd_postfix": ") ",
     "delete_cmd_prefix": "rm(",
     "library": "var_list.r",
     "varRefreshCmd": "cat(var_dic_list()) "
    }
   },
   "types_to_exclude": [
    "module",
    "function",
    "builtin_function_or_method",
    "instance",
    "_Feature"
   ],
   "window_display": false
  }
 },
 "nbformat": 4,
 "nbformat_minor": 2
}
