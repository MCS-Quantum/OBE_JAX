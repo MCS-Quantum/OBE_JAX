{
 "cells": [
  {
   "cell_type": "code",
   "execution_count": 1,
   "id": "1f56f0a7-8b95-49d6-a863-fc0b235e5874",
   "metadata": {},
   "outputs": [],
   "source": [
    "import jax\n",
    "import jax.numpy as jnp\n",
    "jax.config.update(\"jax_enable_x64\", True)\n",
    "jax.config.update('jax_platform_name', 'cpu')\n",
    "\n",
    "import obe_jax as obj\n",
    "\n",
    "import matplotlib.pyplot as plt\n",
    "%matplotlib inline"
   ]
  },
  {
   "cell_type": "markdown",
   "id": "c7880c0e-2f42-41c3-a570-f2fa5018e5fa",
   "metadata": {},
   "source": [
    "# Fitting a simple linear function"
   ]
  },
  {
   "cell_type": "markdown",
   "id": "6d80f95c-52a4-4b92-b95c-0b8f35ccd155",
   "metadata": {},
   "source": [
    "Assume we have a system that takes in a single parameter $x$ and outputs a single output $y$.\n",
    "\n",
    "The relationship between input and output variables is linear with known intercept but unknown slope.\n",
    "\n",
    "$$y = mx+2$$\n",
    "\n",
    "\n",
    "Also, let's assume that there is Gaussian noise with mean $y$ and standard deviation $\\sigma$.\n",
    "\n",
    "Our task is to observe $y$ for different inputs $x$ and infer both $m$ and $\\sigma$ from the data."
   ]
  },
  {
   "cell_type": "markdown",
   "id": "3a42cfcf-51c4-4ff5-b895-c033f4706986",
   "metadata": {},
   "source": [
    "### First we will define the true parameters that we are attempting to infer\n"
   ]
  },
  {
   "cell_type": "code",
   "execution_count": 2,
   "id": "03b6a1d1-3172-45de-b031-22c02a1558f5",
   "metadata": {},
   "outputs": [],
   "source": [
    "m_true = 1.362\n",
    "sigma_true = 0.212\n",
    "true_params = jnp.asarray([m_true,sigma_true])"
   ]
  },
  {
   "cell_type": "markdown",
   "id": "f6c95d40-96ab-4721-91d5-36b3dc489aee",
   "metadata": {},
   "source": [
    "### Next we define the likelihood of observing an output $y'$ given an input x and a set of model parameters"
   ]
  },
  {
   "cell_type": "code",
   "execution_count": 3,
   "id": "630e57ea-78be-4844-90ca-6cc0ff271511",
   "metadata": {},
   "outputs": [],
   "source": [
    "@jax.jit\n",
    "def y_mean(x,m):\n",
    "    return m*x+2\n",
    "\n",
    "@jax.jit\n",
    "def likelihood_function(oneinput_vector,oneoutput_vector,oneparameter_vector):\n",
    "    x = oneinput_vector[0]\n",
    "    m, sigma = oneparameter_vector\n",
    "    yout = oneoutput_vector[0]\n",
    "    \n",
    "    mu = y_mean(x,m)\n",
    "    p = jnp.exp(-0.5*((mu-yout)/sigma)**2)/(jnp.sqrt(jnp.pi*2)*sigma)\n",
    "    return p"
   ]
  },
  {
   "cell_type": "markdown",
   "id": "8754602d-936a-42aa-80fc-4356ab21dc1d",
   "metadata": {},
   "source": [
    "### Next we define our initial guess regarding possible values of mu and sigma. \n",
    "\n",
    "### I.e., our \"prior\" knowledge of mu and sigma."
   ]
  },
  {
   "cell_type": "code",
   "execution_count": 4,
   "id": "472a7aa3-defe-4d46-9402-6eadd17ba919",
   "metadata": {},
   "outputs": [],
   "source": [
    "key = jax.random.PRNGKey(123)\n",
    "key, subkey = jax.random.split(key)\n",
    "N_particles = 1000\n",
    "mins = jnp.array([0.,0.])\n",
    "maxs = jnp.array([2.0,0.3])\n",
    "prior_particles = obj.priors.uniform_prior_particles(subkey,mins,maxs,N_particles)\n",
    "prior_weights = jnp.full((N_particles,),1/N_particles)"
   ]
  },
  {
   "cell_type": "markdown",
   "id": "845968da-19e2-4cf4-bf06-2ae87f2f865e",
   "metadata": {},
   "source": [
    "### And define the potential outputs we may observe"
   ]
  },
  {
   "cell_type": "code",
   "execution_count": 5,
   "id": "85d2d1e5-7996-4e2f-927f-85d43440ebaa",
   "metadata": {},
   "outputs": [],
   "source": [
    "N_outcomes = 1000\n",
    "expected_outcomes = jnp.linspace(0.0,10.0,N_outcomes).reshape((1,N_outcomes))"
   ]
  },
  {
   "cell_type": "markdown",
   "id": "1ccc736c-43bb-4376-807f-2433dbc221c6",
   "metadata": {},
   "source": [
    "### Now we define our Bayseian model"
   ]
  },
  {
   "cell_type": "code",
   "execution_count": 6,
   "id": "c346af2c-6b44-43a4-8aca-76d1651cf5ed",
   "metadata": {},
   "outputs": [],
   "source": [
    "key,subkey = jax.random.split(key)\n",
    "pdf = obj.AbstractBayesianModel(subkey,prior_particles, prior_weights, expected_outcomes,\n",
    "                                likelihood_function=likelihood_function)"
   ]
  },
  {
   "cell_type": "code",
   "execution_count": 7,
   "id": "95e3a71d-cff0-442e-9f80-3f46547a16e3",
   "metadata": {},
   "outputs": [
    {
     "ename": "TypeError",
     "evalue": "Cannot interpret value of type <class 'obe_jax.abstractbayesmodel.AbstractBayesianModel'> as an abstract array; it does not have a dtype attribute",
     "output_type": "error",
     "traceback": [
      "\u001b[0;31m---------------------------------------------------------------------------\u001b[0m",
      "\u001b[0;31mKeyError\u001b[0m                                  Traceback (most recent call last)",
      "File \u001b[0;32m~/opt/miniconda3/envs/qq/lib/python3.11/site-packages/jax/_src/api_util.py:563\u001b[0m, in \u001b[0;36mshaped_abstractify\u001b[0;34m(x)\u001b[0m\n\u001b[1;32m    562\u001b[0m \u001b[38;5;28;01mtry\u001b[39;00m:\n\u001b[0;32m--> 563\u001b[0m   \u001b[38;5;28;01mreturn\u001b[39;00m _shaped_abstractify_handlers[\u001b[38;5;28mtype\u001b[39m(x)](x)\n\u001b[1;32m    564\u001b[0m \u001b[38;5;28;01mexcept\u001b[39;00m \u001b[38;5;167;01mKeyError\u001b[39;00m:\n",
      "\u001b[0;31mKeyError\u001b[0m: <class 'obe_jax.abstractbayesmodel.AbstractBayesianModel'>",
      "\nDuring handling of the above exception, another exception occurred:\n",
      "\u001b[0;31mTypeError\u001b[0m                                 Traceback (most recent call last)",
      "Cell \u001b[0;32mIn[7], line 1\u001b[0m\n\u001b[0;32m----> 1\u001b[0m pdf\u001b[38;5;241m.\u001b[39mmean()\n",
      "    \u001b[0;31m[... skipping hidden 6 frame]\u001b[0m\n",
      "File \u001b[0;32m~/opt/miniconda3/envs/qq/lib/python3.11/site-packages/jax/_src/api_util.py:554\u001b[0m, in \u001b[0;36m_shaped_abstractify_slow\u001b[0;34m(x)\u001b[0m\n\u001b[1;32m    552\u001b[0m   dtype \u001b[38;5;241m=\u001b[39m dtypes\u001b[38;5;241m.\u001b[39mcanonicalize_dtype(x\u001b[38;5;241m.\u001b[39mdtype, allow_opaque_dtype\u001b[38;5;241m=\u001b[39m\u001b[38;5;28;01mTrue\u001b[39;00m)\n\u001b[1;32m    553\u001b[0m \u001b[38;5;28;01melse\u001b[39;00m:\n\u001b[0;32m--> 554\u001b[0m   \u001b[38;5;28;01mraise\u001b[39;00m \u001b[38;5;167;01mTypeError\u001b[39;00m(\n\u001b[1;32m    555\u001b[0m       \u001b[38;5;124mf\u001b[39m\u001b[38;5;124m\"\u001b[39m\u001b[38;5;124mCannot interpret value of type \u001b[39m\u001b[38;5;132;01m{\u001b[39;00m\u001b[38;5;28mtype\u001b[39m(x)\u001b[38;5;132;01m}\u001b[39;00m\u001b[38;5;124m as an abstract array; it \u001b[39m\u001b[38;5;124m\"\u001b[39m\n\u001b[1;32m    556\u001b[0m       \u001b[38;5;124m\"\u001b[39m\u001b[38;5;124mdoes not have a dtype attribute\u001b[39m\u001b[38;5;124m\"\u001b[39m)\n\u001b[1;32m    557\u001b[0m \u001b[38;5;28;01mreturn\u001b[39;00m core\u001b[38;5;241m.\u001b[39mShapedArray(np\u001b[38;5;241m.\u001b[39mshape(x), dtype, weak_type\u001b[38;5;241m=\u001b[39mweak_type,\n\u001b[1;32m    558\u001b[0m                         named_shape\u001b[38;5;241m=\u001b[39mnamed_shape)\n",
      "\u001b[0;31mTypeError\u001b[0m: Cannot interpret value of type <class 'obe_jax.abstractbayesmodel.AbstractBayesianModel'> as an abstract array; it does not have a dtype attribute"
     ]
    }
   ],
   "source": [
    "pdf.mean()"
   ]
  },
  {
   "cell_type": "markdown",
   "id": "00b39d44-19f9-466e-b4d1-4075168cafa8",
   "metadata": {},
   "source": [
    "### Next we will generate a synthetic dataset and visualize it"
   ]
  },
  {
   "cell_type": "code",
   "execution_count": null,
   "id": "2f9f37ec-6dde-40f2-ae60-97cfede800d0",
   "metadata": {},
   "outputs": [],
   "source": [
    "N_data_points = 100\n",
    "inputs = jnp.linspace(0.,5., N_data_points).reshape((1,N_data_points))\n",
    "outputs = pdf.sample_outputs(inputs,true_params)"
   ]
  },
  {
   "cell_type": "code",
   "execution_count": null,
   "id": "4d9edfbf-eb73-4bb2-a67a-008cf5a6d458",
   "metadata": {},
   "outputs": [],
   "source": [
    "outputs.shape"
   ]
  },
  {
   "cell_type": "code",
   "execution_count": null,
   "id": "1235dd45-aa85-45f0-ba88-767df61aaafe",
   "metadata": {},
   "outputs": [],
   "source": [
    "fig, ax = plt.subplots(1,1)\n",
    "ax.plot(inputs[0,:],outputs[0,:],'bo')\n",
    "plt.show()"
   ]
  },
  {
   "cell_type": "markdown",
   "id": "0febc066-b7de-45d6-95cf-2f47c747a35f",
   "metadata": {},
   "source": [
    "### Now we will infer the systems parameters"
   ]
  },
  {
   "cell_type": "code",
   "execution_count": null,
   "id": "17c82f44-a215-4b90-a96a-31f88e0af657",
   "metadata": {
    "tags": []
   },
   "outputs": [],
   "source": [
    "pdf.bayesian_update(inputs[:,i],outputs[:,i])"
   ]
  },
  {
   "cell_type": "code",
   "execution_count": null,
   "id": "5e1f851e-e83a-4877-97b3-0918a5b59de2",
   "metadata": {},
   "outputs": [],
   "source": [
    "pdf.mean()"
   ]
  },
  {
   "cell_type": "code",
   "execution_count": null,
   "id": "afb703e7-52dc-45ff-946b-293ae1b2f83a",
   "metadata": {},
   "outputs": [],
   "source": []
  }
 ],
 "metadata": {
  "kernelspec": {
   "display_name": "Python 3 (ipykernel)",
   "language": "python",
   "name": "python3"
  },
  "language_info": {
   "codemirror_mode": {
    "name": "ipython",
    "version": 3
   },
   "file_extension": ".py",
   "mimetype": "text/x-python",
   "name": "python",
   "nbconvert_exporter": "python",
   "pygments_lexer": "ipython3",
   "version": "3.11.3"
  }
 },
 "nbformat": 4,
 "nbformat_minor": 5
}
