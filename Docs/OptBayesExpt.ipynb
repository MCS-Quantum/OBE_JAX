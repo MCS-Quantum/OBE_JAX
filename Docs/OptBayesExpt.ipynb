{
 "cells": [
  {
   "cell_type": "markdown",
   "metadata": {},
   "source": [
    "## OptBayesExpt\n",
    "\n",
    "This class combines an ExptModel class and a ProbDistFunc class, and adds the routines needed for interpreting new measurement data and for slecting new mesurement settings.\n",
    "\n",
    "ExptModel provides methods for evaluating an experimental model. Note that the actual model ins't provided.  See the Demos for examples of how to add your model and configure.\n",
    "\n",
    "ProbDistFunc provides a probability distribution function and methods for parameter probabilities.\n",
    "\n",
    "OptBayesExpt adds \n",
    "   * a method to update the pdf based on a new measurement\n",
    "   * two methods to estimate settings for the next measurement\n"
   ]
  },
  {
   "cell_type": "markdown",
   "metadata": {},
   "source": [
    "### Methods\n",
    "\n",
    "#### `myOBE.config()`\n",
    "  Configures the settings and parameters arrays and constands based on the `sets`, `params` and `cons` variables.  These variables must set up before running `config.`\n",
    "  \n",
    "#### `myOBE.pdf_update(onesetting, ymeas, sigma)`\n",
    "  Recieves new measurement data, `ymeas` $\\pm$ `sigma`, and updates the probability distribution function using Bayesian inference.  The model function is evaluated once for each possible combination of parameters.\n",
    "  - `onesetting` a tuple representing the combination of settings used in the measurement. \n",
    "  - `ymeas` a float, the measurement value.  Interpreted by the code as the mean of a Gaussian distribution.\n",
    "  - `sigma` a one-standard-deviation estimate of the uncertainty.  Interpreted by the code as the standard deviation of a Gaussian distribution.\n",
    "  \n",
    "#### `myOBE.opt_setting()`\n",
    "  Computes a utility function $U(x)$ for each possible combination of settings $x$. $U(x)$ is an estimate of how much \"good\" a measurement at settings $x$ will do in terms of refining the parameter distribution.  See the manual for details.  The calculation of $U(x)$ is the most computationally demanding part of a measurement cycle; For `myOBE.Ndraws` random parameter values, the model function is evaluated at every possible combination of settings.\n",
    "  - `return:` a tuple containing measurment settings that correspond to the maximum $\\max[U(x)]$.\n",
    "  \n",
    "#### `myOBE.good_setting(pickiness=1)`\n",
    "  Computes the utility function $U(x)$ as in `myOBE.optsetting()` and selects a setting $x$ with a probability proportional to $U(x)^n$ where the exponent $n$ is given by the `pickiness` parameter.\n",
    "  - `pickiness` a value that skews the setting selection away from small $U(x)$ and toward large values.\n",
    "  - `return:` a tuple containing good - but maybe not the optimal - measurement settings.\n",
    "  \n",
    "#### `myOBE.besty()`\n",
    "  Provides something like the best-fit curve.  Using parameters from the maximum of the parameter probability distribution, the model fuction is evaluated for every experimental setting.\n",
    "  - `return:` a numpy array with the dimensions of parameter space.\n",
    "  \n",
    "In addition to these methods, the OptBayesExpt class also inherits all the methods and data from the ExptModel and ProbDistFunc classes.  For example `myOBE.get_PDF()` (a ProbDistFunc method) will work just fine."
   ]
  },
  {
   "cell_type": "markdown",
   "metadata": {},
   "source": [
    "There is also a batch of trivial functions that appear to be for use with OBETCP.py.  Maybe left over from development, and maybe vulnerable to getting removed.\n",
    "\n",
    "```\n",
    "     # clearing data\n",
    "    def clrsets(self):\n",
    "        self.sets = ()\n",
    "\n",
    "    def clrpars(self):\n",
    "        self.pars = ()\n",
    "\n",
    "    def clrcons(self):\n",
    "        self.cons = ()\n",
    "\n",
    "    # appending data to tuples\n",
    "    def addsets(self, setarray):\n",
    "        self.sets += (setarray, )\n",
    "\n",
    "    def addpars(self, pararray):\n",
    "        self.pars += (pararray, )\n",
    "\n",
    "    def addcon(self, constval):\n",
    "        self.cons += (constval, )\n",
    "\n",
    "    # reporting data\n",
    "    def getsets(self):\n",
    "        return self.sets\n",
    "\n",
    "    def getpars(self):\n",
    "        return self.pars\n",
    "\n",
    "    def setcons(self):\n",
    "        return self.cons\n",
    "```"
   ]
  },
  {
   "cell_type": "markdown",
   "metadata": {},
   "source": [
    "## Test"
   ]
  },
  {
   "cell_type": "code",
   "execution_count": null,
   "metadata": {},
   "outputs": [],
   "source": [
    "\n",
    "if __name__ == '__main__':\n",
    "    \n",
    "    from OptBayesExpt import OptBayesExpt \n",
    "    # settings\n",
    "    s = np.linspace(0, 10, 5)\n",
    "    svs = (s,)\n",
    "    p1 = np.linspace(-1, 1, 11)\n",
    "    p2 = np.linspace(2.1, 3.9, 9)\n",
    "    pvs = (p1, p2)\n",
    "    c1 = 1\n",
    "    c2 = 5\n",
    "    cvs = (c1, c2)\n",
    "    myexpt = OptBayesExpt()\n",
    "    myexpt.sets = svs\n",
    "    myexpt.pars = pvs\n",
    "    myexpt.cons = cvs\n",
    "    myexpt.config()\n",
    "\n",
    "    print(myexpt.pdfshape)\n",
    "    print(myexpt.paramvals)\n",
    "    print(myexpt.allparams)\n",
    "    print(myexpt.allsettings)"
   ]
  }
 ],
 "metadata": {
  "kernelspec": {
   "display_name": "Python 3",
   "language": "python",
   "name": "python3"
  },
  "language_info": {
   "codemirror_mode": {
    "name": "ipython",
    "version": 3
   },
   "file_extension": ".py",
   "mimetype": "text/x-python",
   "name": "python",
   "nbconvert_exporter": "python",
   "pygments_lexer": "ipython3",
   "version": "3.6.4"
  }
 },
 "nbformat": 4,
 "nbformat_minor": 2
}
