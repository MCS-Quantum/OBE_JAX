{
 "cells": [
  {
   "cell_type": "markdown",
   "metadata": {},
   "source": [
    "# Sequential Lorentzian \n",
    "\n",
    "An example using the BayesOptExpt class to speed up measurements.\n",
    "\n",
    "## Introduction\n",
    "\n",
    "The OptBayesExpt package addresses the situation where we make measurements in order to determine the\n",
    "parameters of model. This is the situation where we would traditionally make a series of measurements and then do fitting to extract the parameters.  The OptBayesExpt methods are especially handy for automated, routine measurements.\n",
    "\n",
    "A weakness of the usual measure-then-fit approach is that the information accumulated during measurement\n",
    "is not revealed until the fitting stage.  You don't learn much until the measurements are all\n",
    "done.  Also, with measurement settings that are all preprogrammed, the measure-then-fit method\n",
    "can waste time on unimportant measurements while \n",
    "\n",
    "In contrast, the OptBayesExpt class \"learns\" from each measurement result and then uses that\n",
    "knowledge to suggest settings for the next measurement.  The \"knowledge\" is contained in a\n",
    "probability distribution of model parameters.  The narrower the distribution, the better we\n",
    "know the parameters. The \"learning\" process uses Bayes theorem to refine the probability\n",
    "distribution based on each new measurement.\n",
    "\n",
    "The benefits of this on-the-fly learning process are reaped when we use the accumulated\n",
    "knowledge to guide the measurement process.  The learning allows us to make (partially) informed\n",
    "decisions about measurement settings that are likely to be most useful.  What we mean by \"useful\"\n",
    "here needs to be defined precisely, but the process can be sketched as follows.\n",
    "\n",
    "What we (claim) we know about the world is that measurements will behave like our model, but we're\n",
    "fuzzy on the model parameters, as described by their probability density.  Since the measurements\n",
    "and the parameters are connected, if we allow the parameters to vary, the model will predict\n",
    "correspondingly varying measurement values for fixed measurement settings.  Several lines of\n",
    "information theory and Bayes theorem yield a very intuitive result: that the best measurement to\n",
    "make next is the one that will pin down the model where it is varying the most."
   ]
  },
  {
   "cell_type": "markdown",
   "metadata": {},
   "source": [
    "## Set up OptBayesExpt\n",
    "\n",
    "The OptBayesExpt package comes with no understanding of the measurements we want to make, and so it's our responsibility to teach the package about the measurements we want to do.  We'll educate our OptBayesExpt in two main stages, first describing the numerical ranges for experimental controls and model parameters and then adding our model of how the experiment operates."
   ]
  },
  {
   "cell_type": "markdown",
   "metadata": {},
   "source": [
    "First, we need an instance of the OptBayesExpt class that we can modify to suit our needs.  "
   ]
  },
  {
   "cell_type": "code",
   "execution_count": 1,
   "metadata": {},
   "outputs": [],
   "source": [
    "from OptBayesExpt import OptBayesExpt\n",
    "\n",
    "myOBE = OptBayesExpt()"
   ]
  },
  {
   "cell_type": "markdown",
   "metadata": {},
   "source": [
    "If you're not familiar with object oriented lingo, here's a translation: The OptBayesExpt class is like a bag of tools (methods, really) that know how to build and manipulate probability distribution functions, and tools that know how to recommend good measurement settings.  Our copy, `myOBE`, may be talented, but it's ignorant. We have to configure it by describing the experimental world that it will encounter.  "
   ]
  },
  {
   "cell_type": "markdown",
   "metadata": {},
   "source": [
    "### Establish the Model\n",
    "\n",
    "In this demonstration, the experimental model is a Lorentzian-shaped peak with a background.\n",
    "\n",
    "$$ y(x) = B +\\frac{A}{\\left(\\frac{x-x_0}{d}\\right)^2 + 1}$$\n",
    "\n",
    "As the experimenter varies the setting $x$, this model asserts that the measured values $y$ will trace out a Lorentzian curve centered a $x = x_0$ with a height $A$ relative to the background $B$, and a full-width at half-max of $2d$."
   ]
  },
  {
   "cell_type": "code",
   "execution_count": 2,
   "metadata": {},
   "outputs": [],
   "source": [
    "import numpy as np\n",
    "\n",
    "def lorentz(x, x0, A, B, d):\n",
    "    \"\"\"\n",
    "    Calculate a Lorentzian function of x\n",
    "    All parameters may be scalars or they may be numpy arrays\n",
    "        - as long as the arrays interact nicely\n",
    "    :param x:  measurement setting\n",
    "    :param A:  Amplitude parameter\n",
    "    :param B:  background parameter\n",
    "    :param d:  half-width at half-max parameter\n",
    "    :param x0: peak center value parameter\n",
    "    :return:  y  model output (float)\n",
    "    \"\"\"\n",
    "    return B + A / (((x - x0) / d) ** 2 + 1)"
   ]
  },
  {
   "cell_type": "markdown",
   "metadata": {},
   "source": [
    "Just for fun, here's a plot of this model function."
   ]
  },
  {
   "cell_type": "code",
   "execution_count": 3,
   "metadata": {},
   "outputs": [
    {
     "data": {
      "text/plain": [
       "Text(0,0.5,'y')"
      ]
     },
     "execution_count": 3,
     "metadata": {},
     "output_type": "execute_result"
    }
   ],
   "source": [
    "import matplotlib.pyplot as plt\n",
    "\n",
    "x = np.linspace(0, 5, 100)\n",
    "y = lorentz(x, 2.0, 2, 1, .2)\n",
    "plt.plot(x, y)\n",
    "plt.xlabel(\"x\")\n",
    "plt.ylabel(\"y\")\n",
    " "
   ]
  },
  {
   "cell_type": "markdown",
   "metadata": {},
   "source": [
    "Before we move on, some words of caution are in order.  It's sort of a big deal to just boldly assert a model, because we're preparing to tell our deaf, dumb and blind bag of tools that the measurement data will reveal an external world that actually behaves like that model. What if there are two peaks? What if there is an asymmetrical peak or if the peak has more of a Gaussian shape?  "
   ]
  },
  {
   "cell_type": "markdown",
   "metadata": {},
   "source": [
    "Next we have to connect this model to `myOBE`.  Internally, `OptBayesExpt` requires a model function that it can call with three arguments:\n",
    "\n",
    "1. `setings` -- a tuple containing experimental settings, i.e. your experimental knobs.   Just (`x`,) in this case.\n",
    "2. `parameters` -- a tuple containing model parameters, (`x0`, `A`, `B`) in this case for the peak center, peak height and background.\n",
    "3. `constants` -- a tuple containing constants.  In this case, just (`d`,) the peak width parameter.\n",
    "\n",
    "These arguments are discussed in more detail [below](#Mark-out-numerical-ranges)."
   ]
  },
  {
   "cell_type": "code",
   "execution_count": 4,
   "metadata": {},
   "outputs": [],
   "source": [
    "def my_model_function(settings, parameters, constants):\n",
    "        # unpack the experimental settings\n",
    "        x = settings[0]\n",
    "        # unpack model parameters from pars tuple.  Order is important.\n",
    "        x0 = parameters[0]\n",
    "        A = parameters[1]\n",
    "        B = parameters[2]\n",
    "        # unpack model constants\n",
    "        d = constants[0]\n",
    "        return lorentz(x, x0, A, B, d)\n",
    "\n",
    "myOBE.model_function = my_model_function"
   ]
  },
  {
   "cell_type": "markdown",
   "metadata": {},
   "source": [
    "\n",
    "The `my_model_function` below doesn't really do much computation.  It's just a wrapper that allows the `lorentz` model to be evaluated using the required `sets, pars, cons` arguments.\n",
    "\n",
    "The definition of `myOBE.model_function` connects our model to the `myOBE` instance of `OptBayesExpt`."
   ]
  },
  {
   "cell_type": "markdown",
   "metadata": {},
   "source": [
    "### Mark out numerical ranges\n",
    "\n",
    "The next step is to include what we think reasonable settings and model parameters are and what the constant values should be.\n",
    "\n",
    "#### Settings\n",
    "\n",
    "Settings are the experimental control knobs.  Here, we have one knob, _x_ and we will allow our `myBOE` to make measurements at any setting in a 200-member array that runs from 1.5 to 4.5.  Int the experiment that inspired this example, we expect to see a resonance near 3 GHz and it could be anywhere within 1.5 GHz on either side.  We know in advance that the resonance is 200 MHz wide.  If we use 100 possible settings, we'll have a resolution of 30 MHz, which should allow several possible settings within the center of the peak.  We create a 100-member array, pack it into a 1-element tuple, and configure the settings."
   ]
  },
  {
   "cell_type": "code",
   "execution_count": 5,
   "metadata": {},
   "outputs": [],
   "source": [
    "xvals = np.linspace(1.5, 4.5, 100)\n",
    "myOBE.sets = (xvals,)"
   ]
  },
  {
   "cell_type": "markdown",
   "metadata": {},
   "source": [
    "#### Parameters\n",
    "\n",
    "Parameters are properties of the system that's being measured.  This is where we declare what's reasonable for the parameter values, and we provide information how to discretize parameter space. \n",
    "\n",
    "First off, we think that the peak center $x_0$ should be between 2 and 4 and we'd be content with a resolution of 0.01."
   ]
  },
  {
   "cell_type": "code",
   "execution_count": 6,
   "metadata": {},
   "outputs": [],
   "source": [
    "x0min = 2\n",
    "x0max = 4\n",
    "x0vals = np.linspace(x0min, x0max, 201)"
   ]
  },
  {
   "cell_type": "markdown",
   "metadata": {},
   "source": [
    "We think that the peak amplitude should be between -2000 and -10000.  Negative numbers indicate that we're sure it's actually going to be a dip relative to the background instead of a peak."
   ]
  },
  {
   "cell_type": "code",
   "execution_count": 7,
   "metadata": {},
   "outputs": [],
   "source": [
    "Amin = -2000\n",
    "Amax = -10000\n",
    "Avals = np.linspace(Amin, Amax, 101)"
   ]
  },
  {
   "cell_type": "markdown",
   "metadata": {},
   "source": [
    "Our final parameter is the background value.  We think it should be between 275000 and 225000."
   ]
  },
  {
   "cell_type": "code",
   "execution_count": 8,
   "metadata": {},
   "outputs": [],
   "source": [
    "Bmin = 275000\n",
    "Bmax = 225000\n",
    "Bvals = np.linspace(Bmin, Bmax, 151)"
   ]
  },
  {
   "cell_type": "markdown",
   "metadata": {},
   "source": [
    "We take these arrays, package them as a tuple and configure the parameters.  Note that the order corresponds to how the parameters are unpacked in the `model_function`."
   ]
  },
  {
   "cell_type": "code",
   "execution_count": 9,
   "metadata": {},
   "outputs": [],
   "source": [
    "myOBE.pars = (x0vals, Avals, Bvals)"
   ]
  },
  {
   "cell_type": "markdown",
   "metadata": {},
   "source": [
    "#### Constants\n",
    "\n",
    "And the lone constant, the one thing that we're sure about, the width parameter as a 1-element tuple."
   ]
  },
  {
   "cell_type": "code",
   "execution_count": 10,
   "metadata": {},
   "outputs": [],
   "source": [
    "dtrue = .1\n",
    "myOBE.cons = (dtrue,)"
   ]
  },
  {
   "cell_type": "markdown",
   "metadata": {},
   "source": [
    "In the next step, we configure `myBOE` using the arrays we assigned to `myBOE.sets`, `myBOE.pars` and `myBOE.cons`.  Several significant things happen.  If `myBOE.pars` is an _N_-element tuple of arrays, the probability density is set up as an _N_-dimensional array with dimensions corresponding the sizes of the arrays.  In this example, a 3D array with dimensions of (201, 101, 151).  It's easy to set up too many fit parameters or too much discretization.  Don't be greedy. Additionally, the `config()` method initializes a default uniform probability density, which amounts to a uniform Bayesian prior.  Essentially the default  declares that each parameter is equally likely to occur anywhere in its declared range, and that if the 'true' value is outside that range, we're prepared to live with the consequences.  If we have some expert knowledge, say from previous measurements, it can be included using `myBOE.setPDF()` or `myBOE.setlnPDF()`, but this is supposed to be the simple example."
   ]
  },
  {
   "cell_type": "code",
   "execution_count": 11,
   "metadata": {},
   "outputs": [],
   "source": [
    "myOBE.config()"
   ]
  },
  {
   "cell_type": "markdown",
   "metadata": {},
   "source": [
    "That's it.  `myBOE` is all set up and ready to go."
   ]
  },
  {
   "cell_type": "markdown",
   "metadata": {},
   "source": [
    "## Simulate Measurement\n",
    "\n",
    "For demonstration purposes we're going to fake a noise measurement that evaluates a Lorentzian with secretly determined parameter values.  So we generate some random values for the parameters and swear on a copy of Abramowitz and Stegun that we're going to keep the values secret and let `myBOE` discover them."
   ]
  },
  {
   "cell_type": "code",
   "execution_count": 12,
   "metadata": {},
   "outputs": [],
   "source": [
    "x0true = (x0max - x0min) * np.random.rand() + x0min  # pick a random resonance x0\n",
    "Btrue = (Bmax - Bmin) * np.random.rand() + Bmin  # pick a random background\n",
    "Atrue = (Amax - Amin) * np.random.rand() + Amin  # pick a random amplitude"
   ]
  },
  {
   "cell_type": "markdown",
   "metadata": {},
   "source": [
    "The constant `dtrue` is a \"known\" constant and we borrow it from the `myBOE.cons` assignment above.  The simulated measurement results are generated using the `simdata()` routine."
   ]
  },
  {
   "cell_type": "code",
   "execution_count": 18,
   "metadata": {},
   "outputs": [],
   "source": [
    "def simdata(x):\n",
    "    \"\"\"\n",
    "    simulate a measurement at x\n",
    "    :param x:  measurement setting\n",
    "    \"\"\"\n",
    "    # calculate the theoretical output result\n",
    "    y = lorentz(x, x0true, Atrue, Btrue, dtrue)\n",
    "    # add 2% noise from a normal distribution\n",
    "    s = 0.02 * y\n",
    "\n",
    "    if type(x) == np.ndarray:\n",
    "        y += s * np.random.randn(len(x))\n",
    "    else:\n",
    "        y += s * np.random.randn()\n",
    "    return y"
   ]
  },
  {
   "cell_type": "markdown",
   "metadata": {},
   "source": [
    "## Set up the demo\n",
    "\n",
    "The hard work of describing the world to our program is now complete, and it's time to play.  Most of the lines in the `batchdemo` code below serve to set up and display plots, but that's not what we're trying to demonstrate.  The crucial lines in the \"measurement\" cycle are:\n",
    "* `reply = myBOE.opt_setting()`  \n",
    "   In this line, `myBOE` uses the accumulated measurements to suggest the experimental setting that should have greatest effect narrowing the parameter distribution.  The `reply` is a tuple to accommodate experiments with multiple controls.\n",
    "*  `reply = myOBE.good_setting(pickiness=pickiness)`  \n",
    "   This line is similar, but instead of choosing the absolute best predicted setting, the routine picks a random setting, weighted by the usefulness.  The `pickiness` value controls how much the weighting is skewed toward the most useful settings.  `Pickiness` values > 10 behave similarly to `myOBE.opt_setting()`.  \n",
    "*  `ymeasure = simdata(xmeasure)`  \n",
    "   is our simulated substitute for an actual measurement.  \n",
    "*  `myOBE.pdf_update((xmeasure,) ymeasure, 0.02*ymeasure)`  \n",
    "   In this line, the measurement results are reported back to `myOBE` as a settings tuple, a single measured value and an uncertainty."
   ]
  },
  {
   "cell_type": "code",
   "execution_count": 30,
   "metadata": {},
   "outputs": [],
   "source": [
    "import matplotlib.pyplot as plt\n",
    "import matplotlib.animation as animation\n",
    "\n",
    "def batchdemo():\n",
    "    global Nmeasure\n",
    "    global pickiness\n",
    "    global optimum\n",
    "    \n",
    "    xdata = np.zeros(Nmeasure)\n",
    "    ydata = np.zeros(Nmeasure)\n",
    "    sig = np.zeros(Nmeasure)\n",
    "    myOBE.set_pdf(flat=True)\n",
    "    for i in np.arange(Nmeasure):\n",
    "        \"\"\" get the recommended measurement seting \"\"\"\n",
    "        if optimum:\n",
    "            reply = myOBE.opt_setting()\n",
    "        else:\n",
    "            reply = myOBE.good_setting(pickiness=pickiness)\n",
    "\n",
    "        xmeasure = reply[0]\n",
    "        \"\"\" make a simulated measurement \"\"\"\n",
    "        ymeasure = simdata(xmeasure)\n",
    "        xdata[i] = xmeasure\n",
    "        ydata[i] = ymeasure\n",
    "\n",
    "        \"\"\"digest the results -- the learning phase\"\"\"\n",
    "        myOBE.pdf_update((xmeasure,), ymeasure, 0.02 * ymeasure)\n",
    "        # get statistics to track progress\n",
    "        sig[i] = myOBE.get_std(0)\n",
    "\n",
    "    plt.figure(figsize=(12,3))\n",
    "    plt.subplot(131)\n",
    "    plt.plot(xdata, ydata, '.')\n",
    "    plt.plot(xvals, lorentz(xvals, x0true, Atrue, Btrue, dtrue))\n",
    "    plt.xlabel(\"x\")\n",
    "    plt.ylabel(\"y\")\n",
    "\n",
    "    plt.subplot(132)\n",
    "    plt.plot(xdata, '.')\n",
    "    plt.xlabel(\"Measurement number\")\n",
    "    plt.ylabel(\"x setting value\")\n",
    "\n",
    "\n",
    "    plt.subplot(133)\n",
    "    plt.semilogy(sig)\n",
    "    resolution = (xvals[1]-xvals[0])\n",
    "    plt.arrow(20,resolution, -20, 0)\n",
    "    plt.text(20,resolution, \"x0 resolution\")\n",
    "    plt.ylabel(\"sigma x0\")\n",
    "    plt.xlabel(\"Measurement number\")\n",
    "    plt.tight_layout()\n"
   ]
  },
  {
   "cell_type": "markdown",
   "metadata": {},
   "source": [
    "## Run the demo"
   ]
  },
  {
   "cell_type": "code",
   "execution_count": 31,
   "metadata": {
    "scrolled": false
   },
   "outputs": [
    {
     "data": {
      "image/png": "[encoded data removed]",
      "text/plain": [
       "<Figure size 864x216 with 3 Axes>"
      ]
     },
     "metadata": {
      "needs_background": "light"
     },
     "output_type": "display_data"
    }
   ],
   "source": [
    "Nmeasure = 100\n",
    "pickiness = 4\n",
    "optimum = True\n",
    "\n",
    "batchdemo()"
   ]
  },
  {
   "cell_type": "markdown",
   "metadata": {},
   "source": [
    "The left plot shows the \"true\" curve and the simulated measurement data.  The plot in the center shows the sequence of measurement settings recommended by `myBOE` demonstrating how the OptBayesExpt methods concentrate measurements around the peak. If `optimum = True`, `myOBE.opt_setting()` is used, and there will be a concentration of measurements at one extreme setting, which is the best place to measure the background $B$.  If`myOBE.good_setting()` is used.  The right plot shows the standard deviation of the probability distribution of the peak's center point.  Typical behavior includes a searching phase while enough measurements are made to locate the peak.  The uncertainty then drops rapidly as the measurements focus on the peak region.  Standard deviation (sigma) values close to or less than the x0 resolution aren't very meaningful.  It's a sign that the method has been so successful that the discretization we set up in the parameters section has failed."
   ]
  }
 ],
 "metadata": {
  "kernelspec": {
   "display_name": "Python 3",
   "language": "python",
   "name": "python3"
  },
  "language_info": {
   "codemirror_mode": {
    "name": "ipython",
    "version": 3
   },
   "file_extension": ".py",
   "mimetype": "text/x-python",
   "name": "python",
   "nbconvert_exporter": "python",
   "pygments_lexer": "ipython3",
   "version": "3.6.4"
  },
  "varInspector": {
   "cols": {
    "lenName": 16,
    "lenType": 16,
    "lenVar": 40
   },
   "kernels_config": {
    "python": {
     "delete_cmd_postfix": "",
     "delete_cmd_prefix": "del ",
     "library": "var_list.py",
     "varRefreshCmd": "print(var_dic_list())"
    },
    "r": {
     "delete_cmd_postfix": ") ",
     "delete_cmd_prefix": "rm(",
     "library": "var_list.r",
     "varRefreshCmd": "cat(var_dic_list()) "
    }
   },
   "types_to_exclude": [
    "module",
    "function",
    "builtin_function_or_method",
    "instance",
    "_Feature"
   ],
   "window_display": false
  }
 },
 "nbformat": 4,
 "nbformat_minor": 2
}
